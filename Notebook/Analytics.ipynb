{
 "cells": [
  {
   "cell_type": "code",
   "execution_count": 1,
   "metadata": {},
   "outputs": [],
   "source": [
    "import pandas as pd\n",
    "import matplotlib.pyplot as plt\n",
    "import seaborn as sns\n",
    "import numpy as np\n",
    "import torch\n",
    "import torch.nn as nn\n",
    "from sklearn.preprocessing import MinMaxScaler\n",
    "from sklearn.model_selection import train_test_split\n",
    "from xgboost import XGBRegressor\n",
    "import joblib\n",
    "from datetime import datetime, timedelta\n",
    "import warnings"
   ]
  },
  {
   "cell_type": "markdown",
   "metadata": {},
   "source": [
    "## Data Collection, Preprocessing and EDA"
   ]
  },
  {
   "cell_type": "code",
   "execution_count": 2,
   "metadata": {},
   "outputs": [],
   "source": [
    "#we are taking the dat for 4 months (one form each quarter of the year 2024). So we want data drom jan, ap, jul,ocr\n",
    "df_jan = pd.read_parquet('data/yellow_tripdata_2024-01.parquet')\n",
    "df_apr = pd.read_parquet('data/yellow_tripdata_2024-04.parquet')\n",
    "df_jul = pd.read_parquet('data/yellow_tripdata_2024-07.parquet')\n",
    "df_oct = pd.read_parquet('data/yellow_tripdata_2024-10.parquet')\n",
    "#now, i am combining the data from the 4 months to one dataframe\n",
    "df_all = pd.concat([df_jan, df_apr, df_jul, df_oct], ignore_index=True)\n",
    "df_all.to_csv('data/yellow_tripdata_2024.csv', index=False)\n"
   ]
  },
  {
   "cell_type": "code",
   "execution_count": 3,
   "metadata": {},
   "outputs": [
    {
     "data": {
      "text/plain": [
       "Index(['VendorID', 'tpep_pickup_datetime', 'tpep_dropoff_datetime',\n",
       "       'passenger_count', 'trip_distance', 'RatecodeID', 'store_and_fwd_flag',\n",
       "       'PULocationID', 'DOLocationID', 'payment_type', 'fare_amount', 'extra',\n",
       "       'mta_tax', 'tip_amount', 'tolls_amount', 'improvement_surcharge',\n",
       "       'total_amount', 'congestion_surcharge', 'Airport_fee'],\n",
       "      dtype='object')"
      ]
     },
     "execution_count": 3,
     "metadata": {},
     "output_type": "execute_result"
    }
   ],
   "source": [
    "df_all.columns\n"
   ]
  },
  {
   "cell_type": "code",
   "execution_count": 4,
   "metadata": {},
   "outputs": [],
   "source": [
    "dfall=df_all.dropna(subset=['PULocationID'])\n",
    "df_all['pickup_hour'] = df_all['tpep_pickup_datetime'].dt.floor('h')"
   ]
  },
  {
   "cell_type": "code",
   "execution_count": 5,
   "metadata": {},
   "outputs": [],
   "source": [
    "#now, i am creating a seperate column \"month\". this will make comparision easier\n",
    "df_all['month'] = df_all['tpep_pickup_datetime'].dt.to_period('M')\n"
   ]
  },
  {
   "cell_type": "code",
   "execution_count": 6,
   "metadata": {},
   "outputs": [
    {
     "data": {
      "text/plain": [
       "Index(['VendorID', 'tpep_pickup_datetime', 'tpep_dropoff_datetime',\n",
       "       'passenger_count', 'trip_distance', 'RatecodeID', 'store_and_fwd_flag',\n",
       "       'PULocationID', 'DOLocationID', 'payment_type', 'fare_amount', 'extra',\n",
       "       'mta_tax', 'tip_amount', 'tolls_amount', 'improvement_surcharge',\n",
       "       'total_amount', 'congestion_surcharge', 'Airport_fee', 'pickup_hour',\n",
       "       'month'],\n",
       "      dtype='object')"
      ]
     },
     "execution_count": 6,
     "metadata": {},
     "output_type": "execute_result"
    }
   ],
   "source": [
    "df_all.columns"
   ]
  },
  {
   "cell_type": "code",
   "execution_count": 7,
   "metadata": {},
   "outputs": [
    {
     "data": {
      "text/plain": [
       "<bound method NDFrame.head of           VendorID tpep_pickup_datetime tpep_dropoff_datetime  \\\n",
       "0                2  2024-01-01 00:57:55   2024-01-01 01:17:43   \n",
       "1                1  2024-01-01 00:03:00   2024-01-01 00:09:36   \n",
       "2                1  2024-01-01 00:17:06   2024-01-01 00:35:01   \n",
       "3                1  2024-01-01 00:36:38   2024-01-01 00:44:56   \n",
       "4                1  2024-01-01 00:46:51   2024-01-01 00:52:57   \n",
       "...            ...                  ...                   ...   \n",
       "13389582         2  2024-10-31 23:49:01   2024-11-01 00:04:31   \n",
       "13389583         2  2024-10-31 23:35:15   2024-10-31 23:52:50   \n",
       "13389584         2  2024-10-31 23:30:43   2024-11-01 00:08:12   \n",
       "13389585         2  2024-10-31 23:00:00   2024-10-31 23:06:00   \n",
       "13389586         2  2024-10-31 23:18:00   2024-10-31 23:51:00   \n",
       "\n",
       "          passenger_count  trip_distance  RatecodeID store_and_fwd_flag  \\\n",
       "0                     1.0           1.72         1.0                  N   \n",
       "1                     1.0           1.80         1.0                  N   \n",
       "2                     1.0           4.70         1.0                  N   \n",
       "3                     1.0           1.40         1.0                  N   \n",
       "4                     1.0           0.80         1.0                  N   \n",
       "...                   ...            ...         ...                ...   \n",
       "13389582              NaN           3.49         NaN               None   \n",
       "13389583              NaN           2.40         NaN               None   \n",
       "13389584              NaN          12.28         NaN               None   \n",
       "13389585              NaN           0.56         NaN               None   \n",
       "13389586              NaN           6.25         NaN               None   \n",
       "\n",
       "          PULocationID  DOLocationID  payment_type  ...  extra  mta_tax  \\\n",
       "0                  186            79             2  ...    1.0      0.5   \n",
       "1                  140           236             1  ...    3.5      0.5   \n",
       "2                  236            79             1  ...    3.5      0.5   \n",
       "3                   79           211             1  ...    3.5      0.5   \n",
       "4                  211           148             1  ...    3.5      0.5   \n",
       "...                ...           ...           ...  ...    ...      ...   \n",
       "13389582           107           262             0  ...    0.0      0.5   \n",
       "13389583           137           145             0  ...    0.0      0.5   \n",
       "13389584           188           233             0  ...    0.0      0.5   \n",
       "13389585           230            50             0  ...    0.0      0.5   \n",
       "13389586           246            75             0  ...    0.0      0.5   \n",
       "\n",
       "          tip_amount  tolls_amount  improvement_surcharge  total_amount  \\\n",
       "0               0.00          0.00                    1.0         22.70   \n",
       "1               3.75          0.00                    1.0         18.75   \n",
       "2               3.00          0.00                    1.0         31.30   \n",
       "3               2.00          0.00                    1.0         17.00   \n",
       "4               3.20          0.00                    1.0         16.10   \n",
       "...              ...           ...                    ...           ...   \n",
       "13389582        0.00          0.00                    1.0         25.36   \n",
       "13389583        6.03         11.14                    1.0         43.05   \n",
       "13389584        0.00          6.94                    1.0         53.62   \n",
       "13389585        0.00          0.00                    1.0         20.84   \n",
       "13389586        0.00          0.00                    1.0         29.96   \n",
       "\n",
       "          congestion_surcharge  Airport_fee         pickup_hour    month  \n",
       "0                          2.5          0.0 2024-01-01 00:00:00  2024-01  \n",
       "1                          2.5          0.0 2024-01-01 00:00:00  2024-01  \n",
       "2                          2.5          0.0 2024-01-01 00:00:00  2024-01  \n",
       "3                          2.5          0.0 2024-01-01 00:00:00  2024-01  \n",
       "4                          2.5          0.0 2024-01-01 00:00:00  2024-01  \n",
       "...                        ...          ...                 ...      ...  \n",
       "13389582                   NaN          NaN 2024-10-31 23:00:00  2024-10  \n",
       "13389583                   NaN          NaN 2024-10-31 23:00:00  2024-10  \n",
       "13389584                   NaN          NaN 2024-10-31 23:00:00  2024-10  \n",
       "13389585                   NaN          NaN 2024-10-31 23:00:00  2024-10  \n",
       "13389586                   NaN          NaN 2024-10-31 23:00:00  2024-10  \n",
       "\n",
       "[13389587 rows x 21 columns]>"
      ]
     },
     "execution_count": 7,
     "metadata": {},
     "output_type": "execute_result"
    }
   ],
   "source": [
    "df_all.head"
   ]
  },
  {
   "cell_type": "code",
   "execution_count": 8,
   "metadata": {},
   "outputs": [
    {
     "name": "stdout",
     "output_type": "stream",
     "text": [
      "2002-12-31 22:10:04\n",
      "2024-11-14 18:30:00\n"
     ]
    }
   ],
   "source": [
    "print(df_all['tpep_pickup_datetime'].min())\n",
    "print(df_all['tpep_pickup_datetime'].max())"
   ]
  },
  {
   "cell_type": "code",
   "execution_count": 9,
   "metadata": {},
   "outputs": [],
   "source": [
    "\"\"\" \n",
    "there shouldn't be dates for year except 2024. \n",
    "Also, a months except Jan, Ap, Jun and oct are also present. \n",
    "Data need cleaning is needed\n",
    "\"\"\"\n",
    "df_all=df_all[df_all['month'].dt.year==2024]\n",
    "valid_months=[1,4,7,10]\n",
    "df_all=df_all[df_all['month'].dt.month.isin(valid_months)]"
   ]
  },
  {
   "cell_type": "code",
   "execution_count": 10,
   "metadata": {},
   "outputs": [
    {
     "name": "stdout",
     "output_type": "stream",
     "text": [
      "2024-01-01 00:00:00\n",
      "2024-10-31 23:59:59\n"
     ]
    }
   ],
   "source": [
    "print(df_all['tpep_pickup_datetime'].min())\n",
    "print(df_all['tpep_pickup_datetime'].max())"
   ]
  },
  {
   "cell_type": "code",
   "execution_count": 11,
   "metadata": {},
   "outputs": [
    {
     "data": {
      "text/plain": [
       "<Axes: title={'center': 'Total Trips per Month'}, xlabel='Month', ylabel='Number of Trips'>"
      ]
     },
     "execution_count": 11,
     "metadata": {},
     "output_type": "execute_result"
    },
    {
     "data": {
      "image/png": "[encoded data removed]",
      "text/plain": [
       "<Figure size 640x480 with 1 Axes>"
      ]
     },
     "metadata": {},
     "output_type": "display_data"
    }
   ],
   "source": [
    "# Calculating the total trips per month. teying to figure out the distribution\n",
    "month_count=df_all.groupby('month').size()\n",
    "month_count.plot(kind='bar', title='Total Trips per Month', xlabel='Month', ylabel='Number of Trips')"
   ]
  },
  {
   "cell_type": "code",
   "execution_count": 12,
   "metadata": {},
   "outputs": [
    {
     "data": {
      "text/plain": [
       "<Axes: title={'center': 'Average Trip Duration per Month'}, xlabel='Month', ylabel='Average Duration (minutes)'>"
      ]
     },
     "execution_count": 12,
     "metadata": {},
     "output_type": "execute_result"
    },
    {
     "data": {
      "image/png": "[encoded data removed]",
      "text/plain": [
       "<Figure size 640x480 with 1 Axes>"
      ]
     },
     "metadata": {},
     "output_type": "display_data"
    }
   ],
   "source": [
    "df_all['trip_duration']=(df_all['tpep_dropoff_datetime'] - df_all['tpep_pickup_datetime']).dt.total_seconds() / 60\n",
    "monthly_dur= df_all.groupby('month')['trip_duration'].mean()\n",
    "monthly_dur.plot(kind='bar', title='Average Trip Duration per Month', xlabel='Month', ylabel='Average Duration (minutes)')"
   ]
  },
  {
   "cell_type": "code",
   "execution_count": 13,
   "metadata": {},
   "outputs": [
    {
     "data": {
      "image/png": "[encoded data removed]",
      "text/plain": [
       "<Figure size 1200x600 with 1 Axes>"
      ]
     },
     "metadata": {},
     "output_type": "display_data"
    }
   ],
   "source": [
    "#identifying the top 10 pickup zones\n",
    "top_zones=df_all['PULocationID'].value_counts().head(10)\n",
    "plt.figure(figsize=(12, 6))\n",
    "sns.barplot(x=top_zones.index.astype(str), y=top_zones.values)\n",
    "plt.title('Top 10 Pickup Zones')\n",
    "plt.xlabel('Pickup Zone ID')\n",
    "plt.ylabel('Number of Trips')\n",
    "plt.show()"
   ]
  },
  {
   "cell_type": "code",
   "execution_count": 15,
   "metadata": {},
   "outputs": [
    {
     "name": "stderr",
     "output_type": "stream",
     "text": [
      "/var/folders/2k/312tx86x7sq7m7sbv0vvn4t40000gn/T/ipykernel_1299/3347610853.py:4: SettingWithCopyWarning: \n",
      "A value is trying to be set on a copy of a slice from a DataFrame.\n",
      "Try using .loc[row_indexer,col_indexer] = value instead\n",
      "\n",
      "See the caveats in the documentation: https://pandas.pydata.org/pandas-docs/stable/user_guide/indexing.html#returning-a-view-versus-a-copy\n",
      "  df_filtered['pickup_hour'] = df_filtered['tpep_pickup_datetime'].dt.hour\n"
     ]
    },
    {
     "data": {
      "image/png": "[encoded data removed]",
      "text/plain": [
       "<Figure size 1200x800 with 2 Axes>"
      ]
     },
     "metadata": {},
     "output_type": "display_data"
    }
   ],
   "source": [
    "#heatmap of hourly pickup volume for the top 10 zones\n",
    "top_zones = df_all['PULocationID'].value_counts().head(10).index.tolist()\n",
    "df_filtered = df_all[df_all['PULocationID'].isin(top_zones)]\n",
    "df_filtered['pickup_hour'] = df_filtered['tpep_pickup_datetime'].dt.hour\n",
    "heat_data = df_filtered.groupby(['pickup_hour', 'PULocationID']).size().unstack(fill_value=0)\n",
    "plt.figure(figsize=(12, 8))\n",
    "sns.heatmap(heat_data, cmap='YlGnBu', annot=False, linewidths=0.5)\n",
    "plt.title('Heatmap of Pickup Zones by Hour')\n",
    "plt.ylabel('Pickup Hour')\n",
    "plt.xlabel('Pickup Zone ID')\n",
    "plt.show()"
   ]
  },
  {
   "cell_type": "markdown",
   "metadata": {},
   "source": [
    "## Analytics/ Prediction:"
   ]
  },
  {
   "cell_type": "code",
   "execution_count": 16,
   "metadata": {},
   "outputs": [
    {
     "name": "stdout",
     "output_type": "stream",
     "text": [
      "Epoch 0, Loss: 0.3203\n",
      "Epoch 5, Loss: 0.0725\n",
      "Epoch 10, Loss: 0.0476\n",
      "Epoch 15, Loss: 0.0326\n",
      "Epoch 20, Loss: 0.0278\n",
      "Epoch 25, Loss: 0.0245\n",
      "training complete + models saved\n"
     ]
    }
   ],
   "source": [
    "\n",
    "\n",
    "df_grouped = df_all.groupby(['pickup_hour', 'PULocationID']).size().reset_index(name='pickup_count')\n",
    "df_pivot = df_grouped.pivot(index='pickup_hour', columns='PULocationID', values='pickup_count').fillna(0)\n",
    "df_pivot.index = pd.to_datetime(df_pivot.index)\n",
    "\n",
    "#scaling the data (using the mimmax scaler)\n",
    "scaler = MinMaxScaler()\n",
    "df_scaled_values = scaler.fit_transform(df_pivot) \n",
    "df_scaled_df = pd.DataFrame(df_scaled_values, columns=df_pivot.columns, index=df_pivot.index)\n",
    "\n",
    "# Save the scaler in a pickle filee\n",
    "joblib.dump(scaler, \"scaler.pkl\")\n",
    "\n",
    "\n",
    "sequence_length = 24 #using past 24 hrs to predict the next hr\n",
    "\n",
    "def extract_temporal_features(timestamp):\n",
    "    return np.array([\n",
    "        timestamp.hour, # Hour of day (values range from : 0-23)\n",
    "        timestamp.dayofweek, # Day of week (0-6)\n",
    "        timestamp.day, # Day of month (1-31)\n",
    "        timestamp.month,  # Month (1-12)\n",
    "        #using cyclic hour encoding below, because time is cyclic in some senses\n",
    "        # for ex: 0 & 23 are seen as far apart (even though its only 1 hr apart), and can confuse the model.\n",
    "        np.sin(2 * np.pi * timestamp.hour / 24),\n",
    "        np.cos(2 * np.pi * timestamp.hour / 24),\n",
    "        np.sin(2 * np.pi * timestamp.dayofweek / 7),\n",
    "        np.cos(2 * np.pi * timestamp.dayofweek / 7),\n",
    "    ])\n",
    "#creating sequences for lstm. preps the input features and lables\n",
    "def create_global_sequences(df_scaled_df, sequence_length):\n",
    "    X_seq, X_temp, X_zone, y = [], [], [], []\n",
    "    zones = df_scaled_df.columns\n",
    "    timestamps = df_scaled_df.index\n",
    "\n",
    "    for i in range(sequence_length, len(timestamps)):\n",
    "        for j, zone in enumerate(zones):\n",
    "            seq = df_scaled_df[zone].iloc[i-sequence_length:i].values\n",
    "            #demand val of current time for particular zon\n",
    "            label = df_scaled_df[zone].iloc[i]\n",
    "            #extracting temporal features from the timestamp\n",
    "            temp_feat = extract_temporal_features(timestamps[i])\n",
    "\n",
    "            X_seq.append(seq)\n",
    "            X_temp.append(temp_feat)\n",
    "            X_zone.append(j)\n",
    "            y.append(label)\n",
    "\n",
    "    return np.array(X_seq), np.array(X_temp), np.array(X_zone), np.array(y)\n",
    "\n",
    "X_seq, X_temp, X_zone, y = create_global_sequences(df_scaled_df, sequence_length)\n",
    "\n",
    "\n",
    "X_seq_train, X_seq_test, X_temp_train, X_temp_test, X_zone_train, X_zone_test, y_train, y_test = train_test_split(\n",
    "    X_seq, X_temp, X_zone, y, test_size=0.2, random_state=42\n",
    ")\n",
    "\n",
    "# converting to tensors (cause we are using pytorch)\n",
    "X_seq_train = torch.tensor(X_seq_train, dtype=torch.float32).unsqueeze(-1)\n",
    "X_seq_test = torch.tensor(X_seq_test, dtype=torch.float32).unsqueeze(-1)\n",
    "X_temp_train = torch.tensor(X_temp_train, dtype=torch.float32)\n",
    "X_temp_test = torch.tensor(X_temp_test, dtype=torch.float32)\n",
    "X_zone_train = torch.tensor(X_zone_train, dtype=torch.float32).unsqueeze(1)\n",
    "X_zone_test = torch.tensor(X_zone_test, dtype=torch.float32).unsqueeze(1)\n",
    "y_train = torch.tensor(y_train, dtype=torch.float32)\n",
    "y_test = torch.tensor(y_test, dtype=torch.float32)\n",
    "\n",
    "#building the lstm model architecture\n",
    "class GlobalLSTM(nn.Module):\n",
    "    def __init__(self, input_size, hidden_size, temporal_size, zone_size):\n",
    "        super(GlobalLSTM, self).__init__()\n",
    "        self.lstm = nn.LSTM(input_size, hidden_size, batch_first=True)\n",
    "        self.dropout = nn.Dropout(0.2) #i added the dropout layer to avoid overfitting\n",
    "        self.fc1 = nn.Linear(hidden_size + temporal_size + zone_size, 64)\n",
    "        self.fc2 = nn.Linear(64, 32)\n",
    "        self.fc3 = nn.Linear(32, 1)\n",
    "        self.relu = nn.ReLU()\n",
    "\n",
    "    def forward(self, x_seq, x_temp, x_zone):\n",
    "        _, (hidden, _) = self.lstm(x_seq)\n",
    "        lstm_out = self.dropout(hidden[-1])\n",
    "\n",
    "        combined = torch.cat([lstm_out, x_temp, x_zone], dim=1)\n",
    "        x = self.relu(self.fc1(combined))\n",
    "        x = self.relu(self.fc2(x))\n",
    "        return self.fc3(x)\n",
    "\n",
    "#training the lstm model\n",
    "model = GlobalLSTM(1, 50, 8, 1)\n",
    "device = torch.device(\"cuda\" if torch.cuda.is_available() else \"cpu\")\n",
    "model = model.to(device)\n",
    "\n",
    "X_seq_train = X_seq_train.to(device)\n",
    "X_seq_test = X_seq_test.to(device)\n",
    "X_temp_train = X_temp_train.to(device)\n",
    "X_temp_test = X_temp_test.to(device)\n",
    "X_zone_train = X_zone_train.to(device)\n",
    "X_zone_test = X_zone_test.to(device)\n",
    "y_train = y_train.to(device)\n",
    "y_test = y_test.to(device)\n",
    "\n",
    "optimizer = torch.optim.Adam(model.parameters(), lr=0.001)\n",
    "criterion = nn.MSELoss()\n",
    "\n",
    "#training the model for 30 epochs\n",
    "for epoch in range(30):\n",
    "    model.train()\n",
    "    optimizer.zero_grad()\n",
    "    pred = model(X_seq_train, X_temp_train, X_zone_train).squeeze()\n",
    "    loss = criterion(pred, y_train)\n",
    "    loss.backward()\n",
    "    optimizer.step()\n",
    "    if epoch % 5 == 0: #prints the loss every 5 epochs\n",
    "        print(f\"Epoch {epoch}, Loss: {loss.item():.4f}\")\n",
    "\n",
    "# Calculating the residulas\n",
    "model.eval()\n",
    "with torch.no_grad():\n",
    "    y_pred_lstm = model(X_seq_test, X_temp_test, X_zone_test).squeeze().cpu()\n",
    "residuals = y_test.cpu() - y_pred_lstm\n",
    "\n",
    "X_seq_flat = X_seq_test.cpu().reshape(X_seq_test.shape[0], -1).numpy()\n",
    "X_temp_np = X_temp_test.cpu().numpy()\n",
    "X_zone_np = X_zone_test.cpu().numpy()\n",
    "X_xgb = np.hstack([X_seq_flat, X_temp_np, X_zone_np])\n",
    "#training the xgboost model on the residuals\n",
    "xgb_model = XGBRegressor(n_estimators=100)\n",
    "xgb_model.fit(X_xgb, residuals.numpy())\n",
    "\n",
    "# here, i am saving all the models to pickl files. helps in resuing the models\n",
    "torch.save(model.state_dict(), \"global_lstm.pt\")\n",
    "joblib.dump(xgb_model, \"global_xgb.pkl\")\n",
    "df_scaled_df.to_pickle(\"scaled_demand_df.pkl\")\n",
    "print(\"training complete + models saved\")"
   ]
  },
  {
   "cell_type": "code",
   "execution_count": 20,
   "metadata": {},
   "outputs": [],
   "source": [
    "\n",
    "import warnings\n",
    "warnings.filterwarnings('ignore')\n",
    "\n",
    "class GlobalLSTM(nn.Module):\n",
    "    #defining the lstm model architecture\n",
    "    def __init__(self, input_size, hidden_size, temporal_size, zone_size):\n",
    "        super(GlobalLSTM, self).__init__()\n",
    "        self.lstm = nn.LSTM(input_size, hidden_size, batch_first=True)\n",
    "        self.dropout = nn.Dropout(0.2)\n",
    "        self.fc1 = nn.Linear(hidden_size + temporal_size + zone_size, 64)\n",
    "        self.fc2 = nn.Linear(64, 32)\n",
    "        self.fc3 = nn.Linear(32, 1)\n",
    "        self.relu = nn.ReLU()\n",
    "\n",
    "    def forward(self, x_seq, x_temp, x_zone):\n",
    "        _, (hidden, _) = self.lstm(x_seq)\n",
    "        lstm_out = self.dropout(hidden[-1])\n",
    "        combined = torch.cat([lstm_out, x_temp, x_zone], dim=1)\n",
    "        x = self.relu(self.fc1(combined))\n",
    "        x = self.relu(self.fc2(x))\n",
    "        return self.fc3(x)\n",
    "\n",
    "class TaxiDemandPredictor:\n",
    "    def __init__(self, lstm_model_path=\"global_lstm.pt\", xgb_model_path=\"global_xgb.pkl\", scaler_path=\"scaler.pkl\"):\n",
    "        self.device = torch.device(\"cuda\" if torch.cuda.is_available() else \"cpu\")\n",
    "        self.sequence_length = 24\n",
    "\n",
    "        self.lstm_model = GlobalLSTM(1, 50, 8, 1)\n",
    "        self.lstm_model.load_state_dict(torch.load(lstm_model_path, map_location=self.device))\n",
    "        self.lstm_model.to(self.device)\n",
    "        self.lstm_model.eval()\n",
    "\n",
    "        self.xgb_model = joblib.load(xgb_model_path)\n",
    "        self.scaler = joblib.load(scaler_path)\n",
    "\n",
    "        print(\"model loaded successfully\")\n",
    "\n",
    "    def extract_temporal_features(self, timestamp):\n",
    "        #extracts the tempotal fetauress\n",
    "        return np.array([\n",
    "            timestamp.hour,\n",
    "            timestamp.weekday(),\n",
    "            timestamp.day,\n",
    "            timestamp.month,\n",
    "            np.sin(2 * np.pi * timestamp.hour / 24),\n",
    "            np.cos(2 * np.pi * timestamp.hour / 24),\n",
    "            np.sin(2 * np.pi * timestamp.weekday() / 7),\n",
    "            np.cos(2 * np.pi * timestamp.weekday() / 7),\n",
    "        ])\n",
    "\n",
    "    def generate_synthetic_sequence(self, zone_id, target_time):\n",
    "        \"\"\" \n",
    "        Creates a synthetic dmeand hostory for a specific zone\n",
    "        \"\"\"\n",
    "        sequence = []\n",
    "        for i in range(self.sequence_length):\n",
    "            time_point = target_time - timedelta(hours=self.sequence_length - i)\n",
    "            hour = time_point.hour\n",
    "\n",
    "            if 6 <= hour <= 9:\n",
    "                base_demand = 0.7 + np.random.normal(0, 0.1)\n",
    "            elif 17 <= hour <= 20:\n",
    "                base_demand = 0.8 + np.random.normal(0, 0.1)\n",
    "            elif 22 <= hour or hour <= 3:\n",
    "                base_demand = 0.4 + np.random.normal(0, 0.15)\n",
    "            else:\n",
    "                base_demand = 0.5 + np.random.normal(0, 0.1)\n",
    "            #weekend\n",
    "            if time_point.weekday() >= 5:\n",
    "                if 22 <= hour or hour <= 3:\n",
    "                    base_demand *= 1.3\n",
    "                else:\n",
    "                    base_demand *= 0.8\n",
    "            #zone specific modeifier\n",
    "            zone_factor = 0.5 + (hash(str(zone_id)) % 100) / 200\n",
    "            base_demand *= zone_factor\n",
    "            base_demand = max(0, min(1, base_demand))\n",
    "            sequence.append(base_demand)\n",
    "\n",
    "        return np.array(sequence)\n",
    "\n",
    "    def predict_single(self, zone_id, datetime_str):\n",
    "        target_time = datetime.strptime(datetime_str, \"%Y-%m-%d %H:%M:%S\")\n",
    "        #genreating synthetic demand sequence\n",
    "        sequence = self.generate_synthetic_sequence(zone_id, target_time)\n",
    "        temporal_features = self.extract_temporal_features(target_time)\n",
    "        #prepping the tensors for lstm\n",
    "        X_seq = torch.tensor(sequence, dtype=torch.float32).unsqueeze(0).unsqueeze(-1).to(self.device)\n",
    "        X_temp = torch.tensor(temporal_features, dtype=torch.float32).unsqueeze(0).to(self.device)\n",
    "        X_zone = torch.tensor([[float(zone_id)]], dtype=torch.float32).to(self.device)\n",
    "\n",
    "        with torch.no_grad():\n",
    "            lstm_pred = self.lstm_model(X_seq, X_temp, X_zone).squeeze().cpu().numpy()\n",
    "        #here i am prepping the fetures for xgboost\n",
    "        X_seq_flat = sequence.reshape(1, -1)\n",
    "        X_temp_np = temporal_features.reshape(1, -1)\n",
    "        X_zone_np = np.array([[zone_id]])\n",
    "        X_xgb = np.hstack([X_seq_flat, X_temp_np, X_zone_np])\n",
    "        residual_pred = self.xgb_model.predict(X_xgb)[0] #predict residual using xgboost\n",
    "\n",
    "        final_pred_scaled = lstm_pred + residual_pred\n",
    "\n",
    "        dummy_array = np.zeros((1, self.scaler.n_features_in_))\n",
    "        dummy_array[0, min(zone_id, self.scaler.n_features_in_ - 1)] = final_pred_scaled\n",
    "        denormalized = self.scaler.inverse_transform(dummy_array)\n",
    "        final_pred = denormalized[0, min(zone_id, self.scaler.n_features_in_ - 1)]\n",
    "\n",
    "        return max(0, final_pred)\n",
    "\n",
    "    def predict_with_intervals(self, zone_id, datetime_str):\n",
    "        #predicting arounf the time itnervals (15, 30 and 60 min before + after specified time)\n",
    "        base_time = datetime.strptime(datetime_str, \"%Y-%m-%d %H:%M:%S\")\n",
    "        intervals = [-60, -30, -15, 0, 15, 30, 60]\n",
    "        results = {}\n",
    "\n",
    "        for interval in intervals:\n",
    "            target_time = base_time + timedelta(minutes=interval)\n",
    "            target_str = target_time.strftime(\"%Y-%m-%d %H:%M:%S\")\n",
    "\n",
    "            try:\n",
    "                prediction = self.predict_single(zone_id, target_str)\n",
    "                results[f\"{interval:+d}min\"] = {\n",
    "                    \"datetime\": target_str,\n",
    "                    \"predicted_demand\": round(prediction, 2)\n",
    "                }\n",
    "            except Exception as e:\n",
    "                results[f\"{interval:+d}min\"] = {\n",
    "                    \"datetime\": target_str,\n",
    "                    \"predicted_demand\": f\"Error: {str(e)}\"\n",
    "                }\n",
    "\n",
    "        return results\n",
    "\n",
    "    def print_predictions(self, zone_id, datetime_str):\n",
    "        print(f\"\\n Taxi Demand Predictions for Zone ID: {zone_id}\")\n",
    "        print(f\"Base Time: {datetime_str}\")\n",
    "        print(\"=\" * 60)\n",
    "        results = self.predict_with_intervals(zone_id, datetime_str)\n",
    "\n",
    "        for interval, data in results.items():\n",
    "            \n",
    "            print(f\" {interval:>6}: {data['datetime']} | Demand: {data['predicted_demand']}\")\n",
    "        \n",
    "        return results\n",
    "\n",
    "# Helper function\n",
    "def predict_demand(zone_id, datetime_str):\n",
    "    try:\n",
    "        predictor = TaxiDemandPredictor()\n",
    "        return predictor.print_predictions(zone_id, datetime_str)\n",
    "    except Exception as e:\n",
    "        print(f\"Error: {e}\")\n",
    "        return None\n"
   ]
  },
  {
   "cell_type": "code",
   "execution_count": 21,
   "metadata": {},
   "outputs": [
    {
     "name": "stdout",
     "output_type": "stream",
     "text": [
      "model loaded successfully\n",
      "\n",
      " Taxi Demand Predictions for Zone ID: 161\n",
      "Base Time: 2026-09-01 12:20:00\n",
      "============================================================\n",
      " -60min: 2026-09-01 11:20:00 | Demand: 2.36\n",
      " -30min: 2026-09-01 11:50:00 | Demand: 2.17\n",
      " -15min: 2026-09-01 12:05:00 | Demand: 2.82\n",
      "  +0min: 2026-09-01 12:20:00 | Demand: 2.59\n",
      " +15min: 2026-09-01 12:35:00 | Demand: 2.5\n",
      " +30min: 2026-09-01 12:50:00 | Demand: 2.75\n",
      " +60min: 2026-09-01 13:20:00 | Demand: 2.34\n"
     ]
    },
    {
     "data": {
      "text/plain": [
       "{'-60min': {'datetime': '2026-09-01 11:20:00', 'predicted_demand': 2.36},\n",
       " '-30min': {'datetime': '2026-09-01 11:50:00', 'predicted_demand': 2.17},\n",
       " '-15min': {'datetime': '2026-09-01 12:05:00', 'predicted_demand': 2.82},\n",
       " '+0min': {'datetime': '2026-09-01 12:20:00', 'predicted_demand': 2.59},\n",
       " '+15min': {'datetime': '2026-09-01 12:35:00', 'predicted_demand': 2.5},\n",
       " '+30min': {'datetime': '2026-09-01 12:50:00', 'predicted_demand': 2.75},\n",
       " '+60min': {'datetime': '2026-09-01 13:20:00', 'predicted_demand': 2.34}}"
      ]
     },
     "execution_count": 21,
     "metadata": {},
     "output_type": "execute_result"
    }
   ],
   "source": [
    "predict_demand(161, \"2026-09-01 12:20:00\")"
   ]
  },
  {
   "cell_type": "markdown",
   "metadata": {},
   "source": [
    "## Evaluating (RSME, MAE and R2)"
   ]
  },
  {
   "cell_type": "code",
   "execution_count": null,
   "metadata": {},
   "outputs": [
    {
     "name": "stdout",
     "output_type": "stream",
     "text": [
      " Evaluation Metrics:\n",
      " RMSE: 0.0830\n",
      "MAE : 0.0508\n",
      "R²  : 0.7199\n"
     ]
    }
   ],
   "source": [
    "from sklearn.metrics import mean_squared_error, mean_absolute_error, r2_score\n",
    "\n",
    "\n",
    "# Predict using the LSTM + XGBoost hybrid\n",
    "model.eval()\n",
    "with torch.no_grad():\n",
    "    lstm_preds = model(X_seq_test, X_temp_test, X_zone_test).squeeze().cpu().numpy()\n",
    "\n",
    "# Prepare XGBoost inputs\n",
    "X_seq_flat_test = X_seq_test.cpu().reshape(X_seq_test.shape[0], -1).numpy()\n",
    "X_temp_np_test = X_temp_test.cpu().numpy()\n",
    "X_zone_np_test = X_zone_test.cpu().numpy()\n",
    "X_xgb_test = np.hstack([X_seq_flat_test, X_temp_np_test, X_zone_np_test])\n",
    "\n",
    "# Predict residuals and combine with LSTM output\n",
    "xgb_residuals = xgb_model.predict(X_xgb_test)\n",
    "hybrid_preds = lstm_preds + xgb_residuals\n",
    "\n",
    "\n",
    "if isinstance(y_test, torch.Tensor):\n",
    "    y_true = y_test.cpu().numpy()\n",
    "else:\n",
    "    y_true = y_test  \n",
    "\n",
    "# computing metrics \n",
    "rmse = np.sqrt(mean_squared_error(y_true, hybrid_preds))\n",
    "mae = mean_absolute_error(y_true, hybrid_preds)\n",
    "r2 = r2_score(y_true, hybrid_preds)\n",
    "\n",
    "print(\" Evaluation Metrics:\")\n",
    "print(f\" RMSE: {rmse:.4f}\")\n",
    "print(f\"MAE : {mae:.4f}\")\n",
    "print(f\"R²  : {r2:.4f}\")\n"
   ]
  },
  {
   "cell_type": "code",
   "execution_count": null,
   "metadata": {},
   "outputs": [
    {
     "name": "stdout",
     "output_type": "stream",
     "text": [
      "Evaluating the LSTM model only\n",
      " RMSE: 0.1634\n",
      "MAE : 0.1322\n",
      "R²  : -0.0868\n"
     ]
    }
   ],
   "source": [
    "\n",
    "#now i want to compare it with metrics from the lstm model alone\n",
    "model.eval()\n",
    "with torch.no_grad():\n",
    "    lstm_preds = model(X_seq_test, X_temp_test, X_zone_test).squeeze().cpu().numpy()\n",
    "y_true = y_test.cpu().numpy()\n",
    "\n",
    "# computing the merrics\n",
    "rmse = np.sqrt(mean_squared_error(y_true, lstm_preds))\n",
    "mae = mean_absolute_error(y_true, lstm_preds)\n",
    "r2 = r2_score(y_true, lstm_preds)\n",
    "\n",
    "\n",
    "print(\"Evaluating the LSTM model only\")\n",
    "print(f\" RMSE: {rmse:.4f}\")\n",
    "print(f\"MAE : {mae:.4f}\")\n",
    "print(f\"R²  : {r2:.4f}\")\n"
   ]
  },
  {
   "cell_type": "code",
   "execution_count": 35,
   "metadata": {},
   "outputs": [
    {
     "name": "stdout",
     "output_type": "stream",
     "text": [
      "\n",
      " Top 10 zones with highest RMSE:\n",
      "zone_id\n",
      "237    0.139947\n",
      "19     0.135019\n",
      "118    0.131857\n",
      "77     0.131463\n",
      "248    0.131252\n",
      "255    0.131217\n",
      "198    0.127520\n",
      "85     0.127452\n",
      "93     0.126791\n",
      "105    0.126183\n",
      "dtype: float64\n",
      "\n",
      "RMSE by hour (to find rush hour errors):\n",
      "hour\n",
      "0     0.074789\n",
      "1     0.049274\n",
      "2     0.040782\n",
      "3     0.040250\n",
      "4     0.054733\n",
      "5     0.075031\n",
      "6     0.097302\n",
      "7     0.113120\n",
      "8     0.106067\n",
      "9     0.100597\n",
      "10    0.094972\n",
      "11    0.092103\n",
      "12    0.095930\n",
      "13    0.094211\n",
      "14    0.093137\n",
      "15    0.090523\n",
      "16    0.083463\n",
      "17    0.083240\n",
      "18    0.076699\n",
      "19    0.071153\n",
      "20    0.071064\n",
      "21    0.073761\n",
      "22    0.083397\n",
      "23    0.081963\n",
      "dtype: float64\n",
      "\n",
      "RMSE by weekday/weekend :\n",
      "is_weekend\n",
      "False    0.083338\n",
      "True     0.081953\n",
      "dtype: float64\n"
     ]
    }
   ],
   "source": [
    "\n",
    "y_true_np = y_test.cpu().numpy()\n",
    "\n",
    "zone_ids = X_zone_test.squeeze().cpu().numpy().astype(int)\n",
    "time_features = X_temp_test.cpu().numpy()  \n",
    "hours = time_features[:, 0].astype(int)\n",
    "weekdays = time_features[:, 1].astype(int)\n",
    "\n",
    "#creating a dataframe for ecaluation\n",
    "df_eval = pd.DataFrame({\n",
    "    'zone_id': zone_ids,\n",
    "    'hour': hours,\n",
    "    'weekday': weekdays,\n",
    "    'true': y_true_np,\n",
    "    'pred': hybrid_preds\n",
    "})\n",
    "\n",
    "# Compute RMSE by zone\n",
    "zone_rmse = df_eval.groupby('zone_id').apply(lambda x: np.sqrt(mean_squared_error(x['true'], x['pred'])))\n",
    "print(\"\\n Top 10 zones with highest RMSE:\")\n",
    "print(zone_rmse.sort_values(ascending=False).head(10))\n",
    "\n",
    "# Compute RMSE by hour\n",
    "hour_rmse = df_eval.groupby('hour').apply(lambda x: np.sqrt(mean_squared_error(x['true'], x['pred'])))\n",
    "print(\"\\nRMSE by hour (to find rush hour errors):\")\n",
    "print(hour_rmse)\n",
    "\n",
    "# Computing RSME for weedend/weekday. this helps see if the model performs better if it's a week day or a weekend\n",
    "df_eval['is_weekend'] = df_eval['weekday'] >= 5\n",
    "weekend_rmse = df_eval.groupby('is_weekend').apply(lambda x: np.sqrt(mean_squared_error(x['true'], x['pred'])))\n",
    "print(\"\\nRMSE by weekday/weekend :\")\n",
    "print(weekend_rmse)\n"
   ]
  },
  {
   "cell_type": "code",
   "execution_count": 36,
   "metadata": {},
   "outputs": [
    {
     "data": {
      "image/png": "[encoded data removed]",
      "text/plain": [
       "<Figure size 640x480 with 1 Axes>"
      ]
     },
     "metadata": {},
     "output_type": "display_data"
    }
   ],
   "source": [
    "#plotting the rsme for by the hour of the day\n",
    "\n",
    "hour_rmse.plot(kind='bar')\n",
    "plt.title(\"RMSE by Hour of Day\")\n",
    "plt.xlabel(\"Hour\")\n",
    "plt.ylabel(\"RMSE\")\n",
    "plt.grid(True)\n",
    "plt.show()\n"
   ]
  },
  {
   "cell_type": "code",
   "execution_count": null,
   "metadata": {},
   "outputs": [],
   "source": []
  }
 ],
 "metadata": {
  "kernelspec": {
   "display_name": "base",
   "language": "python",
   "name": "python3"
  },
  "language_info": {
   "codemirror_mode": {
    "name": "ipython",
    "version": 3
   },
   "file_extension": ".py",
   "mimetype": "text/x-python",
   "name": "python",
   "nbconvert_exporter": "python",
   "pygments_lexer": "ipython3",
   "version": "3.12.7"
  }
 },
 "nbformat": 4,
 "nbformat_minor": 2
}
